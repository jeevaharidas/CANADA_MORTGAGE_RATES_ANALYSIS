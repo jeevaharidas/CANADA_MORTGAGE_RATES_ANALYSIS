{
 "cells": [
  {
   "cell_type": "code",
   "execution_count": 1,
   "id": "60888119-4bf3-42f4-a1cc-b59b57e01b02",
   "metadata": {},
   "outputs": [
    {
     "name": "stdout",
     "output_type": "stream",
     "text": [
      "   REF_DATE  UOM_ID  SCALAR_ID  DECIMALS  \\\n",
      "0    1987.0    81.0        0.0       0.0   \n",
      "1    1987.0    81.0        0.0       0.0   \n",
      "2    1987.0    81.0        0.0       0.0   \n",
      "3    1987.0    81.0        0.0       0.0   \n",
      "4    1987.0    81.0        0.0       0.0   \n",
      "\n",
      "   GEO_Abbotsford-Mission, British Columbia  GEO_Alma, Quebec  \\\n",
      "0                                       0.0               0.0   \n",
      "1                                       0.0               0.0   \n",
      "2                                       0.0               0.0   \n",
      "3                                       0.0               0.0   \n",
      "4                                       0.0               0.0   \n",
      "\n",
      "   GEO_Amos, Quebec  GEO_Asbestos, Quebec  GEO_Baie-Comeau, Quebec  \\\n",
      "0               0.0                   0.0                      0.0   \n",
      "1               0.0                   0.0                      0.0   \n",
      "2               0.0                   0.0                      0.0   \n",
      "3               0.0                   0.0                      0.0   \n",
      "4               0.0                   0.0                      0.0   \n",
      "\n",
      "   GEO_Barrie, Ontario  ...  GEO_Yellowknife, Northwest Territories  \\\n",
      "0                  0.0  ...                                     0.0   \n",
      "1                  0.0  ...                                     0.0   \n",
      "2                  0.0  ...                                     0.0   \n",
      "3                  0.0  ...                                     0.0   \n",
      "4                  0.0  ...                                     0.0   \n",
      "\n",
      "   GEO_Yorkton, Saskatchewan  \\\n",
      "0                        0.0   \n",
      "1                        0.0   \n",
      "2                        0.0   \n",
      "3                        0.0   \n",
      "4                        0.0   \n",
      "\n",
      "   Type of structure_Apartment structures of six units and over  \\\n",
      "0                                                1.0              \n",
      "1                                                1.0              \n",
      "2                                                1.0              \n",
      "3                                                1.0              \n",
      "4                                                1.0              \n",
      "\n",
      "   Type of structure_Apartment structures of three units and over  \\\n",
      "0                                                0.0                \n",
      "1                                                0.0                \n",
      "2                                                0.0                \n",
      "3                                                0.0                \n",
      "4                                                0.0                \n",
      "\n",
      "   Type of structure_Row and apartment structures of three units and over  \\\n",
      "0                                                0.0                        \n",
      "1                                                0.0                        \n",
      "2                                                0.0                        \n",
      "3                                                0.0                        \n",
      "4                                                0.0                        \n",
      "\n",
      "   Type of structure_Row structures of three units and over  \\\n",
      "0                                                0.0          \n",
      "1                                                0.0          \n",
      "2                                                0.0          \n",
      "3                                                0.0          \n",
      "4                                                0.0          \n",
      "\n",
      "   Type of unit_Bachelor units  Type of unit_One bedroom units  \\\n",
      "0                          0.0                             0.0   \n",
      "1                          0.0                             1.0   \n",
      "2                          0.0                             0.0   \n",
      "3                          0.0                             0.0   \n",
      "4                          0.0                             1.0   \n",
      "\n",
      "   Type of unit_Three bedroom units  Type of unit_Two bedroom units  \n",
      "0                               0.0                             1.0  \n",
      "1                               0.0                             0.0  \n",
      "2                               0.0                             1.0  \n",
      "3                               1.0                             0.0  \n",
      "4                               0.0                             0.0  \n",
      "\n",
      "[5 rows x 231 columns]\n",
      "REF_DATE                                                    float32\n",
      "UOM_ID                                                      float32\n",
      "SCALAR_ID                                                   float32\n",
      "DECIMALS                                                    float32\n",
      "GEO_Abbotsford-Mission, British Columbia                    float32\n",
      "                                                             ...   \n",
      "Type of structure_Row structures of three units and over    float32\n",
      "Type of unit_Bachelor units                                 float32\n",
      "Type of unit_One bedroom units                              float32\n",
      "Type of unit_Three bedroom units                            float32\n",
      "Type of unit_Two bedroom units                              float32\n",
      "Length: 231, dtype: object\n"
     ]
    }
   ],
   "source": [
    "import pandas as pd\n",
    "import numpy as np\n",
    "\n",
    "# Load the dataset\n",
    "data = pd.read_csv('/Users/ernestgaisie/Desktop/Final Projects/CANADA_MORTGAGE_RATES_ANALYSIS/cleaned_34100133.csv', low_memory=False)\n",
    "\n",
    "# Drop irrelevant columns (e.g., STATUS, TERMINATED, DGUID, UOM, SCALAR_FACTOR, VECTOR, COORDINATE)\n",
    "data_cleaned = data.drop(columns=['STATUS', 'TERMINATED', 'DGUID', 'UOM', 'SCALAR_FACTOR', 'VECTOR', 'COORDINATE'])\n",
    "\n",
    "# One-Hot Encode categorical variables\n",
    "data_encoded = pd.get_dummies(data_cleaned, columns=['GEO', 'Type of structure', 'Type of unit'])\n",
    "\n",
    "# Define features (X) and target (y)\n",
    "X = data_encoded.drop(columns=['VALUE'])\n",
    "y = data_encoded['VALUE']\n",
    "\n",
    "# Convert all numerical data to float32 to ensure compatibility with TensorFlow\n",
    "X = X.astype('float32')\n",
    "y = y.astype('float32')\n",
    "\n",
    "# Check the first few rows and data types\n",
    "print(X.head())\n",
    "print(X.dtypes)\n"
   ]
  },
  {
   "cell_type": "code",
   "execution_count": 2,
   "id": "4f62525a-8c74-452a-8440-ac504618b69f",
   "metadata": {},
   "outputs": [],
   "source": [
    "from sklearn.model_selection import train_test_split\n",
    "\n",
    "# Split the data into training and testing sets\n",
    "X_train, X_test, y_train, y_test = train_test_split(X, y, test_size=0.2, random_state=42)\n",
    "\n",
    "# Ensure the data is in the correct format\n",
    "X_train = np.array(X_train)\n",
    "X_test = np.array(X_test)\n",
    "y_train = np.array(y_train)\n",
    "y_test = np.array(y_test)\n"
   ]
  },
  {
   "cell_type": "code",
   "execution_count": 3,
   "id": "1a3e9367-d019-4219-922e-aee5b3b8aae7",
   "metadata": {},
   "outputs": [
    {
     "name": "stdout",
     "output_type": "stream",
     "text": [
      "Epoch 1/100\n",
      "\u001b[1m1376/1376\u001b[0m \u001b[32m━━━━━━━━━━━━━━━━━━━━\u001b[0m\u001b[37m\u001b[0m \u001b[1m1s\u001b[0m 473us/step - loss: 94658.4141 - mae: 229.8898 - val_loss: 90769.9766 - val_mae: 214.5868\n",
      "Epoch 2/100\n",
      "\u001b[1m1376/1376\u001b[0m \u001b[32m━━━━━━━━━━━━━━━━━━━━\u001b[0m\u001b[37m\u001b[0m \u001b[1m1s\u001b[0m 422us/step - loss: 83151.0391 - mae: 215.2847 - val_loss: 72153.5469 - val_mae: 185.4716\n",
      "Epoch 3/100\n",
      "\u001b[1m1376/1376\u001b[0m \u001b[32m━━━━━━━━━━━━━━━━━━━━\u001b[0m\u001b[37m\u001b[0m \u001b[1m1s\u001b[0m 421us/step - loss: 65990.4453 - mae: 187.4460 - val_loss: 55080.1133 - val_mae: 169.8248\n",
      "Epoch 4/100\n",
      "\u001b[1m1376/1376\u001b[0m \u001b[32m━━━━━━━━━━━━━━━━━━━━\u001b[0m\u001b[37m\u001b[0m \u001b[1m1s\u001b[0m 424us/step - loss: 55199.8555 - mae: 171.5765 - val_loss: 49234.6133 - val_mae: 159.9022\n",
      "Epoch 5/100\n",
      "\u001b[1m1376/1376\u001b[0m \u001b[32m━━━━━━━━━━━━━━━━━━━━\u001b[0m\u001b[37m\u001b[0m \u001b[1m1s\u001b[0m 425us/step - loss: 51847.5234 - mae: 165.0280 - val_loss: 51593.7773 - val_mae: 178.0674\n",
      "Epoch 6/100\n",
      "\u001b[1m1376/1376\u001b[0m \u001b[32m━━━━━━━━━━━━━━━━━━━━\u001b[0m\u001b[37m\u001b[0m \u001b[1m1s\u001b[0m 423us/step - loss: 49679.0547 - mae: 163.1927 - val_loss: 54739.9883 - val_mae: 159.3676\n",
      "Epoch 7/100\n",
      "\u001b[1m1376/1376\u001b[0m \u001b[32m━━━━━━━━━━━━━━━━━━━━\u001b[0m\u001b[37m\u001b[0m \u001b[1m1s\u001b[0m 421us/step - loss: 46511.4141 - mae: 157.2884 - val_loss: 45970.4570 - val_mae: 149.6706\n",
      "Epoch 8/100\n",
      "\u001b[1m1376/1376\u001b[0m \u001b[32m━━━━━━━━━━━━━━━━━━━━\u001b[0m\u001b[37m\u001b[0m \u001b[1m1s\u001b[0m 447us/step - loss: 43623.9492 - mae: 153.2972 - val_loss: 47273.0820 - val_mae: 151.1526\n",
      "Epoch 9/100\n",
      "\u001b[1m1376/1376\u001b[0m \u001b[32m━━━━━━━━━━━━━━━━━━━━\u001b[0m\u001b[37m\u001b[0m \u001b[1m1s\u001b[0m 424us/step - loss: 44342.9141 - mae: 154.2856 - val_loss: 42926.9766 - val_mae: 150.6777\n",
      "Epoch 10/100\n",
      "\u001b[1m1376/1376\u001b[0m \u001b[32m━━━━━━━━━━━━━━━━━━━━\u001b[0m\u001b[37m\u001b[0m \u001b[1m1s\u001b[0m 423us/step - loss: 46703.8555 - mae: 158.7260 - val_loss: 44572.3633 - val_mae: 146.2888\n",
      "Epoch 11/100\n",
      "\u001b[1m1376/1376\u001b[0m \u001b[32m━━━━━━━━━━━━━━━━━━━━\u001b[0m\u001b[37m\u001b[0m \u001b[1m1s\u001b[0m 423us/step - loss: 43864.3242 - mae: 154.0043 - val_loss: 41045.0430 - val_mae: 152.6880\n",
      "Epoch 12/100\n",
      "\u001b[1m1376/1376\u001b[0m \u001b[32m━━━━━━━━━━━━━━━━━━━━\u001b[0m\u001b[37m\u001b[0m \u001b[1m1s\u001b[0m 436us/step - loss: 42932.1680 - mae: 151.5466 - val_loss: 58458.3125 - val_mae: 163.9589\n",
      "Epoch 13/100\n",
      "\u001b[1m1376/1376\u001b[0m \u001b[32m━━━━━━━━━━━━━━━━━━━━\u001b[0m\u001b[37m\u001b[0m \u001b[1m1s\u001b[0m 427us/step - loss: 42165.8828 - mae: 150.5944 - val_loss: 40807.8164 - val_mae: 152.3208\n",
      "Epoch 14/100\n",
      "\u001b[1m1376/1376\u001b[0m \u001b[32m━━━━━━━━━━━━━━━━━━━━\u001b[0m\u001b[37m\u001b[0m \u001b[1m1s\u001b[0m 434us/step - loss: 41855.6953 - mae: 150.4087 - val_loss: 39324.7148 - val_mae: 144.8319\n",
      "Epoch 15/100\n",
      "\u001b[1m1376/1376\u001b[0m \u001b[32m━━━━━━━━━━━━━━━━━━━━\u001b[0m\u001b[37m\u001b[0m \u001b[1m1s\u001b[0m 430us/step - loss: 42283.4883 - mae: 151.1841 - val_loss: 39188.9102 - val_mae: 142.9086\n",
      "Epoch 16/100\n",
      "\u001b[1m1376/1376\u001b[0m \u001b[32m━━━━━━━━━━━━━━━━━━━━\u001b[0m\u001b[37m\u001b[0m \u001b[1m1s\u001b[0m 425us/step - loss: 42223.9453 - mae: 150.2045 - val_loss: 39873.8750 - val_mae: 141.5614\n",
      "Epoch 17/100\n",
      "\u001b[1m1376/1376\u001b[0m \u001b[32m━━━━━━━━━━━━━━━━━━━━\u001b[0m\u001b[37m\u001b[0m \u001b[1m1s\u001b[0m 426us/step - loss: 41988.6875 - mae: 150.5049 - val_loss: 39828.9609 - val_mae: 140.7026\n",
      "Epoch 18/100\n",
      "\u001b[1m1376/1376\u001b[0m \u001b[32m━━━━━━━━━━━━━━━━━━━━\u001b[0m\u001b[37m\u001b[0m \u001b[1m1s\u001b[0m 424us/step - loss: 41735.3516 - mae: 150.0300 - val_loss: 37921.7109 - val_mae: 142.8515\n",
      "Epoch 19/100\n",
      "\u001b[1m1376/1376\u001b[0m \u001b[32m━━━━━━━━━━━━━━━━━━━━\u001b[0m\u001b[37m\u001b[0m \u001b[1m1s\u001b[0m 432us/step - loss: 40226.7227 - mae: 147.1082 - val_loss: 41962.5703 - val_mae: 142.9172\n",
      "Epoch 20/100\n",
      "\u001b[1m1376/1376\u001b[0m \u001b[32m━━━━━━━━━━━━━━━━━━━━\u001b[0m\u001b[37m\u001b[0m \u001b[1m1s\u001b[0m 430us/step - loss: 42050.9297 - mae: 149.7973 - val_loss: 38259.3281 - val_mae: 147.0808\n",
      "Epoch 21/100\n",
      "\u001b[1m1376/1376\u001b[0m \u001b[32m━━━━━━━━━━━━━━━━━━━━\u001b[0m\u001b[37m\u001b[0m \u001b[1m1s\u001b[0m 443us/step - loss: 41133.4297 - mae: 149.0019 - val_loss: 37667.3594 - val_mae: 139.0716\n",
      "Epoch 22/100\n",
      "\u001b[1m1376/1376\u001b[0m \u001b[32m━━━━━━━━━━━━━━━━━━━━\u001b[0m\u001b[37m\u001b[0m \u001b[1m1s\u001b[0m 428us/step - loss: 39836.7578 - mae: 145.8781 - val_loss: 36784.2852 - val_mae: 138.8635\n",
      "Epoch 23/100\n",
      "\u001b[1m1376/1376\u001b[0m \u001b[32m━━━━━━━━━━━━━━━━━━━━\u001b[0m\u001b[37m\u001b[0m \u001b[1m1s\u001b[0m 433us/step - loss: 41056.1797 - mae: 148.6555 - val_loss: 39112.2422 - val_mae: 138.5931\n",
      "Epoch 24/100\n",
      "\u001b[1m1376/1376\u001b[0m \u001b[32m━━━━━━━━━━━━━━━━━━━━\u001b[0m\u001b[37m\u001b[0m \u001b[1m1s\u001b[0m 424us/step - loss: 38470.0898 - mae: 143.1783 - val_loss: 36228.0352 - val_mae: 138.0909\n",
      "Epoch 25/100\n",
      "\u001b[1m1376/1376\u001b[0m \u001b[32m━━━━━━━━━━━━━━━━━━━━\u001b[0m\u001b[37m\u001b[0m \u001b[1m1s\u001b[0m 424us/step - loss: 39190.4570 - mae: 144.6641 - val_loss: 40598.5547 - val_mae: 139.1491\n",
      "Epoch 26/100\n",
      "\u001b[1m1376/1376\u001b[0m \u001b[32m━━━━━━━━━━━━━━━━━━━━\u001b[0m\u001b[37m\u001b[0m \u001b[1m1s\u001b[0m 442us/step - loss: 39197.2500 - mae: 144.3071 - val_loss: 36736.9414 - val_mae: 144.0728\n",
      "Epoch 27/100\n",
      "\u001b[1m1376/1376\u001b[0m \u001b[32m━━━━━━━━━━━━━━━━━━━━\u001b[0m\u001b[37m\u001b[0m \u001b[1m1s\u001b[0m 424us/step - loss: 38661.4805 - mae: 143.8067 - val_loss: 35432.6016 - val_mae: 135.2373\n",
      "Epoch 28/100\n",
      "\u001b[1m1376/1376\u001b[0m \u001b[32m━━━━━━━━━━━━━━━━━━━━\u001b[0m\u001b[37m\u001b[0m \u001b[1m1s\u001b[0m 447us/step - loss: 38433.1484 - mae: 142.6675 - val_loss: 38057.0938 - val_mae: 135.2839\n",
      "Epoch 29/100\n",
      "\u001b[1m1376/1376\u001b[0m \u001b[32m━━━━━━━━━━━━━━━━━━━━\u001b[0m\u001b[37m\u001b[0m \u001b[1m1s\u001b[0m 426us/step - loss: 36638.1602 - mae: 139.9668 - val_loss: 43708.1641 - val_mae: 142.0431\n",
      "Epoch 30/100\n",
      "\u001b[1m1376/1376\u001b[0m \u001b[32m━━━━━━━━━━━━━━━━━━━━\u001b[0m\u001b[37m\u001b[0m \u001b[1m1s\u001b[0m 425us/step - loss: 37380.2383 - mae: 141.2528 - val_loss: 35039.7852 - val_mae: 139.0885\n",
      "Epoch 31/100\n",
      "\u001b[1m1376/1376\u001b[0m \u001b[32m━━━━━━━━━━━━━━━━━━━━\u001b[0m\u001b[37m\u001b[0m \u001b[1m1s\u001b[0m 434us/step - loss: 36873.3203 - mae: 139.9628 - val_loss: 40971.0859 - val_mae: 137.0634\n",
      "Epoch 32/100\n",
      "\u001b[1m1376/1376\u001b[0m \u001b[32m━━━━━━━━━━━━━━━━━━━━\u001b[0m\u001b[37m\u001b[0m \u001b[1m1s\u001b[0m 421us/step - loss: 37340.1523 - mae: 140.8685 - val_loss: 35331.6875 - val_mae: 131.6742\n",
      "Epoch 33/100\n",
      "\u001b[1m1376/1376\u001b[0m \u001b[32m━━━━━━━━━━━━━━━━━━━━\u001b[0m\u001b[37m\u001b[0m \u001b[1m1s\u001b[0m 433us/step - loss: 36158.3984 - mae: 138.2125 - val_loss: 34111.0820 - val_mae: 130.4031\n",
      "Epoch 34/100\n",
      "\u001b[1m1376/1376\u001b[0m \u001b[32m━━━━━━━━━━━━━━━━━━━━\u001b[0m\u001b[37m\u001b[0m \u001b[1m1s\u001b[0m 427us/step - loss: 36763.2344 - mae: 139.0487 - val_loss: 36462.3203 - val_mae: 144.7726\n",
      "Epoch 35/100\n",
      "\u001b[1m1376/1376\u001b[0m \u001b[32m━━━━━━━━━━━━━━━━━━━━\u001b[0m\u001b[37m\u001b[0m \u001b[1m1s\u001b[0m 429us/step - loss: 35669.8984 - mae: 137.2417 - val_loss: 42032.6133 - val_mae: 162.1587\n",
      "Epoch 36/100\n",
      "\u001b[1m1376/1376\u001b[0m \u001b[32m━━━━━━━━━━━━━━━━━━━━\u001b[0m\u001b[37m\u001b[0m \u001b[1m1s\u001b[0m 430us/step - loss: 35893.4922 - mae: 137.1816 - val_loss: 32854.4180 - val_mae: 132.2159\n",
      "Epoch 37/100\n",
      "\u001b[1m1376/1376\u001b[0m \u001b[32m━━━━━━━━━━━━━━━━━━━━\u001b[0m\u001b[37m\u001b[0m \u001b[1m1s\u001b[0m 420us/step - loss: 35133.6328 - mae: 136.5346 - val_loss: 32857.3086 - val_mae: 134.2925\n",
      "Epoch 38/100\n",
      "\u001b[1m1376/1376\u001b[0m \u001b[32m━━━━━━━━━━━━━━━━━━━━\u001b[0m\u001b[37m\u001b[0m \u001b[1m1s\u001b[0m 422us/step - loss: 35165.8984 - mae: 135.5343 - val_loss: 31886.6035 - val_mae: 130.8959\n",
      "Epoch 39/100\n",
      "\u001b[1m1376/1376\u001b[0m \u001b[32m━━━━━━━━━━━━━━━━━━━━\u001b[0m\u001b[37m\u001b[0m \u001b[1m1s\u001b[0m 431us/step - loss: 34521.9375 - mae: 134.4143 - val_loss: 38048.3711 - val_mae: 131.3539\n",
      "Epoch 40/100\n",
      "\u001b[1m1376/1376\u001b[0m \u001b[32m━━━━━━━━━━━━━━━━━━━━\u001b[0m\u001b[37m\u001b[0m \u001b[1m1s\u001b[0m 420us/step - loss: 35574.8086 - mae: 135.9944 - val_loss: 55666.3984 - val_mae: 171.7742\n",
      "Epoch 41/100\n",
      "\u001b[1m1376/1376\u001b[0m \u001b[32m━━━━━━━━━━━━━━━━━━━━\u001b[0m\u001b[37m\u001b[0m \u001b[1m1s\u001b[0m 419us/step - loss: 35490.6953 - mae: 136.5853 - val_loss: 31358.3008 - val_mae: 126.7967\n",
      "Epoch 42/100\n",
      "\u001b[1m1376/1376\u001b[0m \u001b[32m━━━━━━━━━━━━━━━━━━━━\u001b[0m\u001b[37m\u001b[0m \u001b[1m1s\u001b[0m 438us/step - loss: 34058.8789 - mae: 133.0038 - val_loss: 30634.6055 - val_mae: 128.8048\n",
      "Epoch 43/100\n",
      "\u001b[1m1376/1376\u001b[0m \u001b[32m━━━━━━━━━━━━━━━━━━━━\u001b[0m\u001b[37m\u001b[0m \u001b[1m1s\u001b[0m 420us/step - loss: 34096.4453 - mae: 133.1812 - val_loss: 30098.0645 - val_mae: 123.3764\n",
      "Epoch 44/100\n",
      "\u001b[1m1376/1376\u001b[0m \u001b[32m━━━━━━━━━━━━━━━━━━━━\u001b[0m\u001b[37m\u001b[0m \u001b[1m1s\u001b[0m 428us/step - loss: 31949.8086 - mae: 128.5241 - val_loss: 30137.1758 - val_mae: 129.1968\n",
      "Epoch 45/100\n",
      "\u001b[1m1376/1376\u001b[0m \u001b[32m━━━━━━━━━━━━━━━━━━━━\u001b[0m\u001b[37m\u001b[0m \u001b[1m1s\u001b[0m 423us/step - loss: 33393.0625 - mae: 130.9418 - val_loss: 31551.2559 - val_mae: 135.0070\n",
      "Epoch 46/100\n",
      "\u001b[1m1376/1376\u001b[0m \u001b[32m━━━━━━━━━━━━━━━━━━━━\u001b[0m\u001b[37m\u001b[0m \u001b[1m1s\u001b[0m 442us/step - loss: 32303.3691 - mae: 128.4919 - val_loss: 27996.1719 - val_mae: 120.9247\n",
      "Epoch 47/100\n",
      "\u001b[1m1376/1376\u001b[0m \u001b[32m━━━━━━━━━━━━━━━━━━━━\u001b[0m\u001b[37m\u001b[0m \u001b[1m1s\u001b[0m 450us/step - loss: 31582.2129 - mae: 127.1701 - val_loss: 32044.6035 - val_mae: 138.6668\n",
      "Epoch 48/100\n",
      "\u001b[1m1376/1376\u001b[0m \u001b[32m━━━━━━━━━━━━━━━━━━━━\u001b[0m\u001b[37m\u001b[0m \u001b[1m1s\u001b[0m 424us/step - loss: 31570.1367 - mae: 127.0391 - val_loss: 28080.0527 - val_mae: 124.0973\n",
      "Epoch 49/100\n",
      "\u001b[1m1376/1376\u001b[0m \u001b[32m━━━━━━━━━━━━━━━━━━━━\u001b[0m\u001b[37m\u001b[0m \u001b[1m1s\u001b[0m 445us/step - loss: 30552.3828 - mae: 123.9476 - val_loss: 29275.8145 - val_mae: 113.9059\n",
      "Epoch 50/100\n",
      "\u001b[1m1376/1376\u001b[0m \u001b[32m━━━━━━━━━━━━━━━━━━━━\u001b[0m\u001b[37m\u001b[0m \u001b[1m1s\u001b[0m 426us/step - loss: 30486.0801 - mae: 123.7582 - val_loss: 30604.3125 - val_mae: 116.1761\n",
      "Epoch 51/100\n",
      "\u001b[1m1376/1376\u001b[0m \u001b[32m━━━━━━━━━━━━━━━━━━━━\u001b[0m\u001b[37m\u001b[0m \u001b[1m1s\u001b[0m 438us/step - loss: 28675.1641 - mae: 120.2313 - val_loss: 26035.8887 - val_mae: 113.2403\n",
      "Epoch 52/100\n",
      "\u001b[1m1376/1376\u001b[0m \u001b[32m━━━━━━━━━━━━━━━━━━━━\u001b[0m\u001b[37m\u001b[0m \u001b[1m1s\u001b[0m 425us/step - loss: 27811.9727 - mae: 118.0555 - val_loss: 27564.6582 - val_mae: 123.7011\n",
      "Epoch 53/100\n",
      "\u001b[1m1376/1376\u001b[0m \u001b[32m━━━━━━━━━━━━━━━━━━━━\u001b[0m\u001b[37m\u001b[0m \u001b[1m1s\u001b[0m 447us/step - loss: 27781.9199 - mae: 117.5348 - val_loss: 38260.4297 - val_mae: 131.7816\n",
      "Epoch 54/100\n",
      "\u001b[1m1376/1376\u001b[0m \u001b[32m━━━━━━━━━━━━━━━━━━━━\u001b[0m\u001b[37m\u001b[0m \u001b[1m1s\u001b[0m 481us/step - loss: 27022.3105 - mae: 115.6588 - val_loss: 29147.1777 - val_mae: 127.3993\n",
      "Epoch 55/100\n",
      "\u001b[1m1376/1376\u001b[0m \u001b[32m━━━━━━━━━━━━━━━━━━━━\u001b[0m\u001b[37m\u001b[0m \u001b[1m1s\u001b[0m 493us/step - loss: 25593.0312 - mae: 111.9339 - val_loss: 32877.8711 - val_mae: 119.9565\n",
      "Epoch 56/100\n",
      "\u001b[1m1376/1376\u001b[0m \u001b[32m━━━━━━━━━━━━━━━━━━━━\u001b[0m\u001b[37m\u001b[0m \u001b[1m1s\u001b[0m 484us/step - loss: 25988.9844 - mae: 112.5043 - val_loss: 36956.1445 - val_mae: 136.9224\n",
      "Epoch 57/100\n",
      "\u001b[1m1376/1376\u001b[0m \u001b[32m━━━━━━━━━━━━━━━━━━━━\u001b[0m\u001b[37m\u001b[0m \u001b[1m1s\u001b[0m 479us/step - loss: 23004.5645 - mae: 104.9112 - val_loss: 19524.1680 - val_mae: 95.4441\n",
      "Epoch 58/100\n",
      "\u001b[1m1376/1376\u001b[0m \u001b[32m━━━━━━━━━━━━━━━━━━━━\u001b[0m\u001b[37m\u001b[0m \u001b[1m1s\u001b[0m 503us/step - loss: 23701.6914 - mae: 106.4371 - val_loss: 28812.3652 - val_mae: 115.0548\n",
      "Epoch 59/100\n",
      "\u001b[1m1376/1376\u001b[0m \u001b[32m━━━━━━━━━━━━━━━━━━━━\u001b[0m\u001b[37m\u001b[0m \u001b[1m1s\u001b[0m 465us/step - loss: 22830.8281 - mae: 103.2106 - val_loss: 17086.9668 - val_mae: 87.4402\n",
      "Epoch 60/100\n",
      "\u001b[1m1376/1376\u001b[0m \u001b[32m━━━━━━━━━━━━━━━━━━━━\u001b[0m\u001b[37m\u001b[0m \u001b[1m1s\u001b[0m 490us/step - loss: 21695.6445 - mae: 101.4117 - val_loss: 16251.3623 - val_mae: 86.5721\n",
      "Epoch 61/100\n",
      "\u001b[1m1376/1376\u001b[0m \u001b[32m━━━━━━━━━━━━━━━━━━━━\u001b[0m\u001b[37m\u001b[0m \u001b[1m1s\u001b[0m 492us/step - loss: 19567.5078 - mae: 95.5215 - val_loss: 20152.6016 - val_mae: 88.9948\n",
      "Epoch 62/100\n",
      "\u001b[1m1376/1376\u001b[0m \u001b[32m━━━━━━━━━━━━━━━━━━━━\u001b[0m\u001b[37m\u001b[0m \u001b[1m1s\u001b[0m 479us/step - loss: 18962.8398 - mae: 93.2037 - val_loss: 19423.7070 - val_mae: 93.4469\n",
      "Epoch 63/100\n",
      "\u001b[1m1376/1376\u001b[0m \u001b[32m━━━━━━━━━━━━━━━━━━━━\u001b[0m\u001b[37m\u001b[0m \u001b[1m1s\u001b[0m 487us/step - loss: 22437.7422 - mae: 101.5265 - val_loss: 14821.5889 - val_mae: 83.6248\n",
      "Epoch 64/100\n",
      "\u001b[1m1376/1376\u001b[0m \u001b[32m━━━━━━━━━━━━━━━━━━━━\u001b[0m\u001b[37m\u001b[0m \u001b[1m1s\u001b[0m 449us/step - loss: 17987.9668 - mae: 89.3958 - val_loss: 16103.6230 - val_mae: 77.8078\n",
      "Epoch 65/100\n",
      "\u001b[1m1376/1376\u001b[0m \u001b[32m━━━━━━━━━━━━━━━━━━━━\u001b[0m\u001b[37m\u001b[0m \u001b[1m1s\u001b[0m 441us/step - loss: 18436.7852 - mae: 91.4645 - val_loss: 25475.9375 - val_mae: 112.5359\n",
      "Epoch 66/100\n",
      "\u001b[1m1376/1376\u001b[0m \u001b[32m━━━━━━━━━━━━━━━━━━━━\u001b[0m\u001b[37m\u001b[0m \u001b[1m1s\u001b[0m 442us/step - loss: 18302.4219 - mae: 91.4727 - val_loss: 13699.1729 - val_mae: 70.7069\n",
      "Epoch 67/100\n",
      "\u001b[1m1376/1376\u001b[0m \u001b[32m━━━━━━━━━━━━━━━━━━━━\u001b[0m\u001b[37m\u001b[0m \u001b[1m1s\u001b[0m 432us/step - loss: 16436.2988 - mae: 85.5893 - val_loss: 12790.2510 - val_mae: 74.6737\n",
      "Epoch 68/100\n",
      "\u001b[1m1376/1376\u001b[0m \u001b[32m━━━━━━━━━━━━━━━━━━━━\u001b[0m\u001b[37m\u001b[0m \u001b[1m1s\u001b[0m 452us/step - loss: 17395.4785 - mae: 87.9498 - val_loss: 28730.7910 - val_mae: 124.0428\n",
      "Epoch 69/100\n",
      "\u001b[1m1376/1376\u001b[0m \u001b[32m━━━━━━━━━━━━━━━━━━━━\u001b[0m\u001b[37m\u001b[0m \u001b[1m1s\u001b[0m 441us/step - loss: 16761.4453 - mae: 84.6662 - val_loss: 15623.0635 - val_mae: 78.4075\n",
      "Epoch 70/100\n",
      "\u001b[1m1376/1376\u001b[0m \u001b[32m━━━━━━━━━━━━━━━━━━━━\u001b[0m\u001b[37m\u001b[0m \u001b[1m1s\u001b[0m 457us/step - loss: 16590.6543 - mae: 86.1976 - val_loss: 12515.1191 - val_mae: 68.8587\n",
      "Epoch 71/100\n",
      "\u001b[1m1376/1376\u001b[0m \u001b[32m━━━━━━━━━━━━━━━━━━━━\u001b[0m\u001b[37m\u001b[0m \u001b[1m1s\u001b[0m 443us/step - loss: 16993.9199 - mae: 87.0142 - val_loss: 26827.8379 - val_mae: 117.7207\n",
      "Epoch 72/100\n",
      "\u001b[1m1376/1376\u001b[0m \u001b[32m━━━━━━━━━━━━━━━━━━━━\u001b[0m\u001b[37m\u001b[0m \u001b[1m1s\u001b[0m 450us/step - loss: 17181.8340 - mae: 87.8148 - val_loss: 52206.9727 - val_mae: 160.6470\n",
      "Epoch 73/100\n",
      "\u001b[1m1376/1376\u001b[0m \u001b[32m━━━━━━━━━━━━━━━━━━━━\u001b[0m\u001b[37m\u001b[0m \u001b[1m1s\u001b[0m 435us/step - loss: 17960.2168 - mae: 90.1339 - val_loss: 13113.5342 - val_mae: 78.9764\n",
      "Epoch 74/100\n",
      "\u001b[1m1376/1376\u001b[0m \u001b[32m━━━━━━━━━━━━━━━━━━━━\u001b[0m\u001b[37m\u001b[0m \u001b[1m1s\u001b[0m 447us/step - loss: 19304.2754 - mae: 94.1211 - val_loss: 38784.5000 - val_mae: 143.4890\n",
      "Epoch 75/100\n",
      "\u001b[1m1376/1376\u001b[0m \u001b[32m━━━━━━━━━━━━━━━━━━━━\u001b[0m\u001b[37m\u001b[0m \u001b[1m1s\u001b[0m 441us/step - loss: 19548.6543 - mae: 93.5103 - val_loss: 15291.2246 - val_mae: 74.7836\n",
      "Epoch 76/100\n",
      "\u001b[1m1376/1376\u001b[0m \u001b[32m━━━━━━━━━━━━━━━━━━━━\u001b[0m\u001b[37m\u001b[0m \u001b[1m1s\u001b[0m 433us/step - loss: 15944.9707 - mae: 84.4306 - val_loss: 23288.5312 - val_mae: 117.4871\n",
      "Epoch 77/100\n",
      "\u001b[1m1376/1376\u001b[0m \u001b[32m━━━━━━━━━━━━━━━━━━━━\u001b[0m\u001b[37m\u001b[0m \u001b[1m1s\u001b[0m 445us/step - loss: 16732.4004 - mae: 86.1882 - val_loss: 14625.4600 - val_mae: 72.2743\n",
      "Epoch 78/100\n",
      "\u001b[1m1376/1376\u001b[0m \u001b[32m━━━━━━━━━━━━━━━━━━━━\u001b[0m\u001b[37m\u001b[0m \u001b[1m1s\u001b[0m 442us/step - loss: 18772.9863 - mae: 92.5050 - val_loss: 16420.6543 - val_mae: 80.6958\n",
      "Epoch 79/100\n",
      "\u001b[1m1376/1376\u001b[0m \u001b[32m━━━━━━━━━━━━━━━━━━━━\u001b[0m\u001b[37m\u001b[0m \u001b[1m1s\u001b[0m 439us/step - loss: 24592.1367 - mae: 106.1576 - val_loss: 18279.8379 - val_mae: 93.1769\n",
      "Epoch 80/100\n",
      "\u001b[1m1376/1376\u001b[0m \u001b[32m━━━━━━━━━━━━━━━━━━━━\u001b[0m\u001b[37m\u001b[0m \u001b[1m1s\u001b[0m 443us/step - loss: 21198.4043 - mae: 99.2958 - val_loss: 15533.7256 - val_mae: 79.5153\n",
      "Epoch 81/100\n",
      "\u001b[1m1376/1376\u001b[0m \u001b[32m━━━━━━━━━━━━━━━━━━━━\u001b[0m\u001b[37m\u001b[0m \u001b[1m1s\u001b[0m 452us/step - loss: 19391.7051 - mae: 94.6517 - val_loss: 20148.7344 - val_mae: 96.3252\n",
      "Epoch 82/100\n",
      "\u001b[1m1376/1376\u001b[0m \u001b[32m━━━━━━━━━━━━━━━━━━━━\u001b[0m\u001b[37m\u001b[0m \u001b[1m1s\u001b[0m 449us/step - loss: 18605.4062 - mae: 91.3522 - val_loss: 43910.4102 - val_mae: 185.7916\n",
      "Epoch 83/100\n",
      "\u001b[1m1376/1376\u001b[0m \u001b[32m━━━━━━━━━━━━━━━━━━━━\u001b[0m\u001b[37m\u001b[0m \u001b[1m1s\u001b[0m 434us/step - loss: 20759.1836 - mae: 99.4694 - val_loss: 19850.3203 - val_mae: 89.7016\n",
      "Epoch 84/100\n",
      "\u001b[1m1376/1376\u001b[0m \u001b[32m━━━━━━━━━━━━━━━━━━━━\u001b[0m\u001b[37m\u001b[0m \u001b[1m1s\u001b[0m 445us/step - loss: 18929.1367 - mae: 93.1704 - val_loss: 13671.6992 - val_mae: 70.7243\n",
      "Epoch 85/100\n",
      "\u001b[1m1376/1376\u001b[0m \u001b[32m━━━━━━━━━━━━━━━━━━━━\u001b[0m\u001b[37m\u001b[0m \u001b[1m1s\u001b[0m 470us/step - loss: 18721.9629 - mae: 92.0963 - val_loss: 18059.8301 - val_mae: 86.2108\n",
      "Epoch 86/100\n",
      "\u001b[1m1376/1376\u001b[0m \u001b[32m━━━━━━━━━━━━━━━━━━━━\u001b[0m\u001b[37m\u001b[0m \u001b[1m1s\u001b[0m 444us/step - loss: 18226.5215 - mae: 91.2202 - val_loss: 17014.2031 - val_mae: 96.9186\n",
      "Epoch 87/100\n",
      "\u001b[1m1376/1376\u001b[0m \u001b[32m━━━━━━━━━━━━━━━━━━━━\u001b[0m\u001b[37m\u001b[0m \u001b[1m1s\u001b[0m 439us/step - loss: 19579.0098 - mae: 95.5412 - val_loss: 32602.4707 - val_mae: 152.1410\n",
      "Epoch 88/100\n",
      "\u001b[1m1376/1376\u001b[0m \u001b[32m━━━━━━━━━━━━━━━━━━━━\u001b[0m\u001b[37m\u001b[0m \u001b[1m1s\u001b[0m 463us/step - loss: 26500.1172 - mae: 113.5667 - val_loss: 22314.5137 - val_mae: 96.2595\n",
      "Epoch 89/100\n",
      "\u001b[1m1376/1376\u001b[0m \u001b[32m━━━━━━━━━━━━━━━━━━━━\u001b[0m\u001b[37m\u001b[0m \u001b[1m1s\u001b[0m 447us/step - loss: 19277.3359 - mae: 92.3903 - val_loss: 53952.1289 - val_mae: 202.2113\n",
      "Epoch 90/100\n",
      "\u001b[1m1376/1376\u001b[0m \u001b[32m━━━━━━━━━━━━━━━━━━━━\u001b[0m\u001b[37m\u001b[0m \u001b[1m1s\u001b[0m 446us/step - loss: 19872.9277 - mae: 95.3358 - val_loss: 18844.2129 - val_mae: 90.6154\n",
      "Epoch 91/100\n",
      "\u001b[1m1376/1376\u001b[0m \u001b[32m━━━━━━━━━━━━━━━━━━━━\u001b[0m\u001b[37m\u001b[0m \u001b[1m1s\u001b[0m 444us/step - loss: 18137.7246 - mae: 90.2523 - val_loss: 14973.8145 - val_mae: 75.9795\n",
      "Epoch 92/100\n",
      "\u001b[1m1376/1376\u001b[0m \u001b[32m━━━━━━━━━━━━━━━━━━━━\u001b[0m\u001b[37m\u001b[0m \u001b[1m1s\u001b[0m 435us/step - loss: 17818.0254 - mae: 90.2999 - val_loss: 15987.7314 - val_mae: 92.7734\n",
      "Epoch 93/100\n",
      "\u001b[1m1376/1376\u001b[0m \u001b[32m━━━━━━━━━━━━━━━━━━━━\u001b[0m\u001b[37m\u001b[0m \u001b[1m1s\u001b[0m 447us/step - loss: 19985.5039 - mae: 95.5153 - val_loss: 13134.9150 - val_mae: 69.2578\n",
      "Epoch 94/100\n",
      "\u001b[1m1376/1376\u001b[0m \u001b[32m━━━━━━━━━━━━━━━━━━━━\u001b[0m\u001b[37m\u001b[0m \u001b[1m1s\u001b[0m 451us/step - loss: 19154.5449 - mae: 93.9547 - val_loss: 14090.7939 - val_mae: 83.0349\n",
      "Epoch 95/100\n",
      "\u001b[1m1376/1376\u001b[0m \u001b[32m━━━━━━━━━━━━━━━━━━━━\u001b[0m\u001b[37m\u001b[0m \u001b[1m1s\u001b[0m 446us/step - loss: 17768.4492 - mae: 88.6909 - val_loss: 12862.4893 - val_mae: 74.2265\n",
      "Epoch 96/100\n",
      "\u001b[1m1376/1376\u001b[0m \u001b[32m━━━━━━━━━━━━━━━━━━━━\u001b[0m\u001b[37m\u001b[0m \u001b[1m1s\u001b[0m 447us/step - loss: 15852.7041 - mae: 83.9535 - val_loss: 12989.9346 - val_mae: 67.9532\n",
      "Epoch 97/100\n",
      "\u001b[1m1376/1376\u001b[0m \u001b[32m━━━━━━━━━━━━━━━━━━━━\u001b[0m\u001b[37m\u001b[0m \u001b[1m1s\u001b[0m 447us/step - loss: 17067.7734 - mae: 86.5971 - val_loss: 36101.7070 - val_mae: 160.2271\n",
      "Epoch 98/100\n",
      "\u001b[1m1376/1376\u001b[0m \u001b[32m━━━━━━━━━━━━━━━━━━━━\u001b[0m\u001b[37m\u001b[0m \u001b[1m1s\u001b[0m 444us/step - loss: 16413.5469 - mae: 85.4383 - val_loss: 38108.8477 - val_mae: 161.8542\n",
      "Epoch 99/100\n",
      "\u001b[1m1376/1376\u001b[0m \u001b[32m━━━━━━━━━━━━━━━━━━━━\u001b[0m\u001b[37m\u001b[0m \u001b[1m1s\u001b[0m 437us/step - loss: 16840.4004 - mae: 87.3386 - val_loss: 13958.6738 - val_mae: 84.4656\n",
      "Epoch 100/100\n",
      "\u001b[1m1376/1376\u001b[0m \u001b[32m━━━━━━━━━━━━━━━━━━━━\u001b[0m\u001b[37m\u001b[0m \u001b[1m1s\u001b[0m 445us/step - loss: 15348.9404 - mae: 81.6531 - val_loss: 13704.5771 - val_mae: 72.9643\n"
     ]
    }
   ],
   "source": [
    "import tensorflow as tf\n",
    "from tensorflow.keras import layers, models\n",
    "\n",
    "# Define the TensorFlow model\n",
    "model = models.Sequential([\n",
    "    layers.Input(shape=(X_train.shape[1],)),  # Define the input shape\n",
    "    layers.Dense(128, activation='relu'),  # Hidden layer with 128 neurons\n",
    "    layers.Dense(64, activation='relu'),  # Hidden layer with 64 neurons\n",
    "    layers.Dense(32, activation='relu'),  # Hidden layer with 32 neurons\n",
    "    layers.Dense(1)  # Output layer for regression (single output)\n",
    "])\n",
    "\n",
    "# Compile the model\n",
    "model.compile(optimizer='adam', loss='mse', metrics=['mae'])\n",
    "\n",
    "# Train the model\n",
    "history = model.fit(X_train, y_train, epochs=100, validation_split=0.2, batch_size=32)\n"
   ]
  },
  {
   "cell_type": "code",
   "execution_count": 4,
   "id": "548f194b-a1dd-4a3a-9ddd-2551fb61d1ca",
   "metadata": {},
   "outputs": [
    {
     "name": "stdout",
     "output_type": "stream",
     "text": [
      "\u001b[1m430/430\u001b[0m \u001b[32m━━━━━━━━━━━━━━━━━━━━\u001b[0m\u001b[37m\u001b[0m \u001b[1m0s\u001b[0m 218us/step - loss: 14011.4824 - mae: 73.3191\n",
      "Mean Absolute Error on test data: 72.4484634399414\n"
     ]
    }
   ],
   "source": [
    "# Evaluate the model\n",
    "loss, mae = model.evaluate(X_test, y_test)\n",
    "print(f\"Mean Absolute Error on test data: {mae}\")"
   ]
  },
  {
   "cell_type": "code",
   "execution_count": 6,
   "id": "9dcb4253-15ab-47e8-84ec-e99fd0f7f9e9",
   "metadata": {},
   "outputs": [
    {
     "name": "stdout",
     "output_type": "stream",
     "text": [
      "\u001b[1m430/430\u001b[0m \u001b[32m━━━━━━━━━━━━━━━━━━━━\u001b[0m\u001b[37m\u001b[0m \u001b[1m0s\u001b[0m 241us/step\n"
     ]
    }
   ],
   "source": [
    "# Make predictions on the test set\n",
    "predictions = model.predict(X_test)\n",
    "\n",
    "# Save the trained model\n",
    "model.save('tf_model.keras')"
   ]
  },
  {
   "cell_type": "code",
   "execution_count": 7,
   "id": "6dd00b65-56c9-41cc-8dcc-453e5438fd21",
   "metadata": {},
   "outputs": [
    {
     "name": "stdout",
     "output_type": "stream",
     "text": [
      "\u001b[1m430/430\u001b[0m \u001b[32m━━━━━━━━━━━━━━━━━━━━\u001b[0m\u001b[37m\u001b[0m \u001b[1m0s\u001b[0m 221us/step - loss: 14011.4824 - mae: 73.3191\n",
      "Mean Absolute Error on test data: 72.4484634399414\n"
     ]
    }
   ],
   "source": [
    "# Evaluate the model on the test set\n",
    "loss, mae = model.evaluate(X_test, y_test)\n",
    "print(f\"Mean Absolute Error on test data: {mae}\")"
   ]
  },
  {
   "cell_type": "code",
   "execution_count": 8,
   "id": "d1c4247b-44ea-408f-972a-c2d821b47eef",
   "metadata": {},
   "outputs": [
    {
     "name": "stdout",
     "output_type": "stream",
     "text": [
      "\u001b[1m430/430\u001b[0m \u001b[32m━━━━━━━━━━━━━━━━━━━━\u001b[0m\u001b[37m\u001b[0m \u001b[1m0s\u001b[0m 441us/step\n",
      "Predicted: 1278.5657958984375, Actual: 1261.0\n",
      "Predicted: 427.5155029296875, Actual: 464.0\n",
      "Predicted: 354.2796630859375, Actual: 402.0\n",
      "Predicted: 608.6024169921875, Actual: 875.0\n",
      "Predicted: 216.60919189453125, Actual: 260.0\n"
     ]
    }
   ],
   "source": [
    "# Make predictions on the test set\n",
    "predictions = model.predict(X_test)\n",
    "\n",
    "# Compare the first few predictions with the actual values\n",
    "for i in range(5):\n",
    "    print(f\"Predicted: {predictions[i][0]}, Actual: {y_test[i]}\")"
   ]
  },
  {
   "cell_type": "code",
   "execution_count": 9,
   "id": "97137b96-40e5-4b24-85e5-ae4801bdbd3d",
   "metadata": {},
   "outputs": [
    {
     "data": {
      "text/html": [
       "<pre style=\"white-space:pre;overflow-x:auto;line-height:normal;font-family:Menlo,'DejaVu Sans Mono',consolas,'Courier New',monospace\"><span style=\"font-weight: bold\">Model: \"sequential\"</span>\n",
       "</pre>\n"
      ],
      "text/plain": [
       "\u001b[1mModel: \"sequential\"\u001b[0m\n"
      ]
     },
     "metadata": {},
     "output_type": "display_data"
    },
    {
     "data": {
      "text/html": [
       "<pre style=\"white-space:pre;overflow-x:auto;line-height:normal;font-family:Menlo,'DejaVu Sans Mono',consolas,'Courier New',monospace\">┏━━━━━━━━━━━━━━━━━━━━━━━━━━━━━━━━━┳━━━━━━━━━━━━━━━━━━━━━━━━┳━━━━━━━━━━━━━━━┓\n",
       "┃<span style=\"font-weight: bold\"> Layer (type)                    </span>┃<span style=\"font-weight: bold\"> Output Shape           </span>┃<span style=\"font-weight: bold\">       Param # </span>┃\n",
       "┡━━━━━━━━━━━━━━━━━━━━━━━━━━━━━━━━━╇━━━━━━━━━━━━━━━━━━━━━━━━╇━━━━━━━━━━━━━━━┩\n",
       "│ dense (<span style=\"color: #0087ff; text-decoration-color: #0087ff\">Dense</span>)                   │ (<span style=\"color: #00d7ff; text-decoration-color: #00d7ff\">None</span>, <span style=\"color: #00af00; text-decoration-color: #00af00\">128</span>)            │        <span style=\"color: #00af00; text-decoration-color: #00af00\">29,696</span> │\n",
       "├─────────────────────────────────┼────────────────────────┼───────────────┤\n",
       "│ dense_1 (<span style=\"color: #0087ff; text-decoration-color: #0087ff\">Dense</span>)                 │ (<span style=\"color: #00d7ff; text-decoration-color: #00d7ff\">None</span>, <span style=\"color: #00af00; text-decoration-color: #00af00\">64</span>)             │         <span style=\"color: #00af00; text-decoration-color: #00af00\">8,256</span> │\n",
       "├─────────────────────────────────┼────────────────────────┼───────────────┤\n",
       "│ dense_2 (<span style=\"color: #0087ff; text-decoration-color: #0087ff\">Dense</span>)                 │ (<span style=\"color: #00d7ff; text-decoration-color: #00d7ff\">None</span>, <span style=\"color: #00af00; text-decoration-color: #00af00\">32</span>)             │         <span style=\"color: #00af00; text-decoration-color: #00af00\">2,080</span> │\n",
       "├─────────────────────────────────┼────────────────────────┼───────────────┤\n",
       "│ dense_3 (<span style=\"color: #0087ff; text-decoration-color: #0087ff\">Dense</span>)                 │ (<span style=\"color: #00d7ff; text-decoration-color: #00d7ff\">None</span>, <span style=\"color: #00af00; text-decoration-color: #00af00\">1</span>)              │            <span style=\"color: #00af00; text-decoration-color: #00af00\">33</span> │\n",
       "└─────────────────────────────────┴────────────────────────┴───────────────┘\n",
       "</pre>\n"
      ],
      "text/plain": [
       "┏━━━━━━━━━━━━━━━━━━━━━━━━━━━━━━━━━┳━━━━━━━━━━━━━━━━━━━━━━━━┳━━━━━━━━━━━━━━━┓\n",
       "┃\u001b[1m \u001b[0m\u001b[1mLayer (type)                   \u001b[0m\u001b[1m \u001b[0m┃\u001b[1m \u001b[0m\u001b[1mOutput Shape          \u001b[0m\u001b[1m \u001b[0m┃\u001b[1m \u001b[0m\u001b[1m      Param #\u001b[0m\u001b[1m \u001b[0m┃\n",
       "┡━━━━━━━━━━━━━━━━━━━━━━━━━━━━━━━━━╇━━━━━━━━━━━━━━━━━━━━━━━━╇━━━━━━━━━━━━━━━┩\n",
       "│ dense (\u001b[38;5;33mDense\u001b[0m)                   │ (\u001b[38;5;45mNone\u001b[0m, \u001b[38;5;34m128\u001b[0m)            │        \u001b[38;5;34m29,696\u001b[0m │\n",
       "├─────────────────────────────────┼────────────────────────┼───────────────┤\n",
       "│ dense_1 (\u001b[38;5;33mDense\u001b[0m)                 │ (\u001b[38;5;45mNone\u001b[0m, \u001b[38;5;34m64\u001b[0m)             │         \u001b[38;5;34m8,256\u001b[0m │\n",
       "├─────────────────────────────────┼────────────────────────┼───────────────┤\n",
       "│ dense_2 (\u001b[38;5;33mDense\u001b[0m)                 │ (\u001b[38;5;45mNone\u001b[0m, \u001b[38;5;34m32\u001b[0m)             │         \u001b[38;5;34m2,080\u001b[0m │\n",
       "├─────────────────────────────────┼────────────────────────┼───────────────┤\n",
       "│ dense_3 (\u001b[38;5;33mDense\u001b[0m)                 │ (\u001b[38;5;45mNone\u001b[0m, \u001b[38;5;34m1\u001b[0m)              │            \u001b[38;5;34m33\u001b[0m │\n",
       "└─────────────────────────────────┴────────────────────────┴───────────────┘\n"
      ]
     },
     "metadata": {},
     "output_type": "display_data"
    },
    {
     "data": {
      "text/html": [
       "<pre style=\"white-space:pre;overflow-x:auto;line-height:normal;font-family:Menlo,'DejaVu Sans Mono',consolas,'Courier New',monospace\"><span style=\"font-weight: bold\"> Total params: </span><span style=\"color: #00af00; text-decoration-color: #00af00\">120,197</span> (469.52 KB)\n",
       "</pre>\n"
      ],
      "text/plain": [
       "\u001b[1m Total params: \u001b[0m\u001b[38;5;34m120,197\u001b[0m (469.52 KB)\n"
      ]
     },
     "metadata": {},
     "output_type": "display_data"
    },
    {
     "data": {
      "text/html": [
       "<pre style=\"white-space:pre;overflow-x:auto;line-height:normal;font-family:Menlo,'DejaVu Sans Mono',consolas,'Courier New',monospace\"><span style=\"font-weight: bold\"> Trainable params: </span><span style=\"color: #00af00; text-decoration-color: #00af00\">40,065</span> (156.50 KB)\n",
       "</pre>\n"
      ],
      "text/plain": [
       "\u001b[1m Trainable params: \u001b[0m\u001b[38;5;34m40,065\u001b[0m (156.50 KB)\n"
      ]
     },
     "metadata": {},
     "output_type": "display_data"
    },
    {
     "data": {
      "text/html": [
       "<pre style=\"white-space:pre;overflow-x:auto;line-height:normal;font-family:Menlo,'DejaVu Sans Mono',consolas,'Courier New',monospace\"><span style=\"font-weight: bold\"> Non-trainable params: </span><span style=\"color: #00af00; text-decoration-color: #00af00\">0</span> (0.00 B)\n",
       "</pre>\n"
      ],
      "text/plain": [
       "\u001b[1m Non-trainable params: \u001b[0m\u001b[38;5;34m0\u001b[0m (0.00 B)\n"
      ]
     },
     "metadata": {},
     "output_type": "display_data"
    },
    {
     "data": {
      "text/html": [
       "<pre style=\"white-space:pre;overflow-x:auto;line-height:normal;font-family:Menlo,'DejaVu Sans Mono',consolas,'Courier New',monospace\"><span style=\"font-weight: bold\"> Optimizer params: </span><span style=\"color: #00af00; text-decoration-color: #00af00\">80,132</span> (313.02 KB)\n",
       "</pre>\n"
      ],
      "text/plain": [
       "\u001b[1m Optimizer params: \u001b[0m\u001b[38;5;34m80,132\u001b[0m (313.02 KB)\n"
      ]
     },
     "metadata": {},
     "output_type": "display_data"
    }
   ],
   "source": [
    "# Print the model summary\n",
    "model.summary()"
   ]
  },
  {
   "cell_type": "code",
   "execution_count": 15,
   "id": "3b39c9fd-58c2-44c4-8670-d2c55a3f4a9b",
   "metadata": {},
   "outputs": [
    {
     "name": "stdout",
     "output_type": "stream",
     "text": [
      "Index(['REF_DATE', 'UOM_ID', 'SCALAR_ID', 'DECIMALS',\n",
      "       'GEO_Abbotsford-Mission, British Columbia', 'GEO_Alma, Quebec',\n",
      "       'GEO_Amos, Quebec', 'GEO_Asbestos, Quebec', 'GEO_Baie-Comeau, Quebec',\n",
      "       'GEO_Barrie, Ontario',\n",
      "       ...\n",
      "       'GEO_Yellowknife, Northwest Territories', 'GEO_Yorkton, Saskatchewan',\n",
      "       'Type of structure_Apartment structures of six units and over',\n",
      "       'Type of structure_Apartment structures of three units and over',\n",
      "       'Type of structure_Row and apartment structures of three units and over',\n",
      "       'Type of structure_Row structures of three units and over',\n",
      "       'Type of unit_Bachelor units', 'Type of unit_One bedroom units',\n",
      "       'Type of unit_Three bedroom units', 'Type of unit_Two bedroom units'],\n",
      "      dtype='object', length=231)\n"
     ]
    }
   ],
   "source": [
    "print(column_names)"
   ]
  },
  {
   "cell_type": "code",
   "execution_count": 14,
   "id": "13ba3c72-4af9-4464-8862-8d2d269fd4eb",
   "metadata": {},
   "outputs": [
    {
     "ename": "KeyError",
     "evalue": "'GEO_Labrador City'",
     "output_type": "error",
     "traceback": [
      "\u001b[0;31m---------------------------------------------------------------------------\u001b[0m",
      "\u001b[0;31mKeyError\u001b[0m                                  Traceback (most recent call last)",
      "File \u001b[0;32m/opt/anaconda3/lib/python3.11/site-packages/pandas/core/indexes/base.py:3791\u001b[0m, in \u001b[0;36mIndex.get_loc\u001b[0;34m(self, key)\u001b[0m\n\u001b[1;32m   3790\u001b[0m \u001b[38;5;28;01mtry\u001b[39;00m:\n\u001b[0;32m-> 3791\u001b[0m     \u001b[38;5;28;01mreturn\u001b[39;00m \u001b[38;5;28mself\u001b[39m\u001b[38;5;241m.\u001b[39m_engine\u001b[38;5;241m.\u001b[39mget_loc(casted_key)\n\u001b[1;32m   3792\u001b[0m \u001b[38;5;28;01mexcept\u001b[39;00m \u001b[38;5;167;01mKeyError\u001b[39;00m \u001b[38;5;28;01mas\u001b[39;00m err:\n",
      "File \u001b[0;32mindex.pyx:152\u001b[0m, in \u001b[0;36mpandas._libs.index.IndexEngine.get_loc\u001b[0;34m()\u001b[0m\n",
      "File \u001b[0;32mindex.pyx:181\u001b[0m, in \u001b[0;36mpandas._libs.index.IndexEngine.get_loc\u001b[0;34m()\u001b[0m\n",
      "File \u001b[0;32mpandas/_libs/hashtable_class_helper.pxi:7080\u001b[0m, in \u001b[0;36mpandas._libs.hashtable.PyObjectHashTable.get_item\u001b[0;34m()\u001b[0m\n",
      "File \u001b[0;32mpandas/_libs/hashtable_class_helper.pxi:7088\u001b[0m, in \u001b[0;36mpandas._libs.hashtable.PyObjectHashTable.get_item\u001b[0;34m()\u001b[0m\n",
      "\u001b[0;31mKeyError\u001b[0m: 'GEO_Labrador City'",
      "\nThe above exception was the direct cause of the following exception:\n",
      "\u001b[0;31mKeyError\u001b[0m                                  Traceback (most recent call last)",
      "Cell \u001b[0;32mIn[14], line 7\u001b[0m\n\u001b[1;32m      4\u001b[0m feature_vector \u001b[38;5;241m=\u001b[39m np\u001b[38;5;241m.\u001b[39mzeros((\u001b[38;5;241m1\u001b[39m, \u001b[38;5;28mlen\u001b[39m(column_names)))\n\u001b[1;32m      6\u001b[0m \u001b[38;5;66;03m# Set the specific features to 1 using the saved column names\u001b[39;00m\n\u001b[0;32m----> 7\u001b[0m feature_vector[\u001b[38;5;241m0\u001b[39m, column_names\u001b[38;5;241m.\u001b[39mget_loc(\u001b[38;5;124m'\u001b[39m\u001b[38;5;124mGEO_Labrador City\u001b[39m\u001b[38;5;124m'\u001b[39m)] \u001b[38;5;241m=\u001b[39m \u001b[38;5;241m1\u001b[39m\n\u001b[1;32m      8\u001b[0m feature_vector[\u001b[38;5;241m0\u001b[39m, column_names\u001b[38;5;241m.\u001b[39mget_loc(\u001b[38;5;124m'\u001b[39m\u001b[38;5;124mType of unit_Two bedroom units\u001b[39m\u001b[38;5;124m'\u001b[39m)] \u001b[38;5;241m=\u001b[39m \u001b[38;5;241m1\u001b[39m\n\u001b[1;32m      9\u001b[0m \u001b[38;5;66;03m# Adjust this depending on the type of structure you're interested in\u001b[39;00m\n",
      "File \u001b[0;32m/opt/anaconda3/lib/python3.11/site-packages/pandas/core/indexes/base.py:3798\u001b[0m, in \u001b[0;36mIndex.get_loc\u001b[0;34m(self, key)\u001b[0m\n\u001b[1;32m   3793\u001b[0m     \u001b[38;5;28;01mif\u001b[39;00m \u001b[38;5;28misinstance\u001b[39m(casted_key, \u001b[38;5;28mslice\u001b[39m) \u001b[38;5;129;01mor\u001b[39;00m (\n\u001b[1;32m   3794\u001b[0m         \u001b[38;5;28misinstance\u001b[39m(casted_key, abc\u001b[38;5;241m.\u001b[39mIterable)\n\u001b[1;32m   3795\u001b[0m         \u001b[38;5;129;01mand\u001b[39;00m \u001b[38;5;28many\u001b[39m(\u001b[38;5;28misinstance\u001b[39m(x, \u001b[38;5;28mslice\u001b[39m) \u001b[38;5;28;01mfor\u001b[39;00m x \u001b[38;5;129;01min\u001b[39;00m casted_key)\n\u001b[1;32m   3796\u001b[0m     ):\n\u001b[1;32m   3797\u001b[0m         \u001b[38;5;28;01mraise\u001b[39;00m InvalidIndexError(key)\n\u001b[0;32m-> 3798\u001b[0m     \u001b[38;5;28;01mraise\u001b[39;00m \u001b[38;5;167;01mKeyError\u001b[39;00m(key) \u001b[38;5;28;01mfrom\u001b[39;00m \u001b[38;5;21;01merr\u001b[39;00m\n\u001b[1;32m   3799\u001b[0m \u001b[38;5;28;01mexcept\u001b[39;00m \u001b[38;5;167;01mTypeError\u001b[39;00m:\n\u001b[1;32m   3800\u001b[0m     \u001b[38;5;66;03m# If we have a listlike key, _check_indexing_error will raise\u001b[39;00m\n\u001b[1;32m   3801\u001b[0m     \u001b[38;5;66;03m#  InvalidIndexError. Otherwise we fall through and re-raise\u001b[39;00m\n\u001b[1;32m   3802\u001b[0m     \u001b[38;5;66;03m#  the TypeError.\u001b[39;00m\n\u001b[1;32m   3803\u001b[0m     \u001b[38;5;28mself\u001b[39m\u001b[38;5;241m.\u001b[39m_check_indexing_error(key)\n",
      "\u001b[0;31mKeyError\u001b[0m: 'GEO_Labrador City'"
     ]
    }
   ],
   "source": [
    "import numpy as np\n",
    "\n",
    "# Example feature vector for \"Labrador City two bedroom units\"\n",
    "feature_vector = np.zeros((1, len(column_names)))\n",
    "\n",
    "# Set the specific features to 1 using the saved column names\n",
    "feature_vector[0, column_names.get_loc('GEO_Labrador City')] = 1\n",
    "feature_vector[0, column_names.get_loc('Type of unit_Two bedroom units')] = 1\n",
    "# Adjust this depending on the type of structure you're interested in\n",
    "feature_vector[0, column_names.get_loc('Type of structure_Apartment')] = 1\n",
    "\n",
    "# Convert to float32 if necessary\n",
    "feature_vector = feature_vector.astype('float32')\n"
   ]
  },
  {
   "cell_type": "code",
   "execution_count": null,
   "id": "b18456ff-1c98-4554-bd2c-563ceaad26a2",
   "metadata": {},
   "outputs": [],
   "source": []
  }
 ],
 "metadata": {
  "kernelspec": {
   "display_name": "Python 3 (ipykernel)",
   "language": "python",
   "name": "python3"
  },
  "language_info": {
   "codemirror_mode": {
    "name": "ipython",
    "version": 3
   },
   "file_extension": ".py",
   "mimetype": "text/x-python",
   "name": "python",
   "nbconvert_exporter": "python",
   "pygments_lexer": "ipython3",
   "version": "3.11.5"
  }
 },
 "nbformat": 4,
 "nbformat_minor": 5
}
