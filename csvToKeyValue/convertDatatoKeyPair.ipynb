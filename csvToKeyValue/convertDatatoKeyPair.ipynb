{
 "cells": [
  {
   "cell_type": "code",
   "execution_count": 1,
   "id": "796573ce-f404-4cd5-a9fc-cc0e92f80026",
   "metadata": {},
   "outputs": [
    {
     "name": "stderr",
     "output_type": "stream",
     "text": [
      "/var/folders/nq/174f2qcn6cl3hlkkbcr98vw00000gn/T/ipykernel_33795/3991754066.py:5: DtypeWarning: Columns (13) have mixed types. Specify dtype option on import or set low_memory=False.\n",
      "  data = pd.read_csv(file_path)\n"
     ]
    },
    {
     "data": {
      "text/html": [
       "<div>\n",
       "<style scoped>\n",
       "    .dataframe tbody tr th:only-of-type {\n",
       "        vertical-align: middle;\n",
       "    }\n",
       "\n",
       "    .dataframe tbody tr th {\n",
       "        vertical-align: top;\n",
       "    }\n",
       "\n",
       "    .dataframe thead th {\n",
       "        text-align: right;\n",
       "    }\n",
       "</style>\n",
       "<table border=\"1\" class=\"dataframe\">\n",
       "  <thead>\n",
       "    <tr style=\"text-align: right;\">\n",
       "      <th></th>\n",
       "      <th>Question</th>\n",
       "      <th>Answer</th>\n",
       "    </tr>\n",
       "  </thead>\n",
       "  <tbody>\n",
       "    <tr>\n",
       "      <th>0</th>\n",
       "      <td>What was the mortgage price in Corner Brook, N...</td>\n",
       "      <td>The mortgage price in Corner Brook, Newfoundla...</td>\n",
       "    </tr>\n",
       "    <tr>\n",
       "      <th>1</th>\n",
       "      <td>What was the mortgage price in Gander, Newfoun...</td>\n",
       "      <td>The mortgage price in Gander, Newfoundland and...</td>\n",
       "    </tr>\n",
       "    <tr>\n",
       "      <th>2</th>\n",
       "      <td>What was the mortgage price in Gander, Newfoun...</td>\n",
       "      <td>The mortgage price in Gander, Newfoundland and...</td>\n",
       "    </tr>\n",
       "    <tr>\n",
       "      <th>3</th>\n",
       "      <td>What was the mortgage price in Gander, Newfoun...</td>\n",
       "      <td>The mortgage price in Gander, Newfoundland and...</td>\n",
       "    </tr>\n",
       "    <tr>\n",
       "      <th>4</th>\n",
       "      <td>What was the mortgage price in Labrador City, ...</td>\n",
       "      <td>The mortgage price in Labrador City, Newfoundl...</td>\n",
       "    </tr>\n",
       "  </tbody>\n",
       "</table>\n",
       "</div>"
      ],
      "text/plain": [
       "                                            Question  \\\n",
       "0  What was the mortgage price in Corner Brook, N...   \n",
       "1  What was the mortgage price in Gander, Newfoun...   \n",
       "2  What was the mortgage price in Gander, Newfoun...   \n",
       "3  What was the mortgage price in Gander, Newfoun...   \n",
       "4  What was the mortgage price in Labrador City, ...   \n",
       "\n",
       "                                              Answer  \n",
       "0  The mortgage price in Corner Brook, Newfoundla...  \n",
       "1  The mortgage price in Gander, Newfoundland and...  \n",
       "2  The mortgage price in Gander, Newfoundland and...  \n",
       "3  The mortgage price in Gander, Newfoundland and...  \n",
       "4  The mortgage price in Labrador City, Newfoundl...  "
      ]
     },
     "execution_count": 1,
     "metadata": {},
     "output_type": "execute_result"
    }
   ],
   "source": [
    "import pandas as pd\n",
    "\n",
    "# Load your CSV data\n",
    "file_path = '/Users/ernestgaisie/Desktop/Final Projects/CANADA_MORTGAGE_RATES_ANALYSIS/cleaned_34100133.csv'\n",
    "data = pd.read_csv(file_path)\n",
    "\n",
    "# Function to format the question and answer\n",
    "def create_qa_pairs(row):\n",
    "    question = f\"What was the mortgage price in {row['GEO']} for a {row['Type of unit']} in {row['REF_DATE']}?\"\n",
    "    answer = f\"The mortgage price in {row['GEO']} for a {row['Type of unit']} in {row['REF_DATE']} was {row['VALUE']}.\"\n",
    "    return question, answer\n",
    "\n",
    "# Apply the function to create Q&A pairs\n",
    "data['Q&A'] = data.apply(create_qa_pairs, axis=1)\n",
    "\n",
    "# Extract the Q&A pairs into a separate DataFrame\n",
    "qa_pairs = pd.DataFrame(data['Q&A'].tolist(), columns=['Question', 'Answer'])\n",
    "\n",
    "# Save the Q&A pairs to a new CSV file for further processing or training\n",
    "qa_pairs.to_csv('/Users/ernestgaisie/Desktop/Final Projects/CANADA_MORTGAGE_RATES_ANALYSIS/qa_pairs.csv', index=False)\n",
    "\n",
    "# Display the first few Q&A pairs\n",
    "qa_pairs.head()\n"
   ]
  },
  {
   "cell_type": "code",
   "execution_count": null,
   "id": "e8bfa050-15b1-4999-bbf2-3bd746ecab1b",
   "metadata": {},
   "outputs": [],
   "source": []
  }
 ],
 "metadata": {
  "kernelspec": {
   "display_name": "Python 3 (ipykernel)",
   "language": "python",
   "name": "python3"
  },
  "language_info": {
   "codemirror_mode": {
    "name": "ipython",
    "version": 3
   },
   "file_extension": ".py",
   "mimetype": "text/x-python",
   "name": "python",
   "nbconvert_exporter": "python",
   "pygments_lexer": "ipython3",
   "version": "3.11.5"
  }
 },
 "nbformat": 4,
 "nbformat_minor": 5
}
